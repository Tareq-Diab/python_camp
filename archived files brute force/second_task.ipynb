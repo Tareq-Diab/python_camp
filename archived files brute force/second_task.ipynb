{
 "cells": [
  {
   "cell_type": "code",
   "execution_count": null,
   "metadata": {},
   "outputs": [],
   "source": [
    "you have a rar file named task2.rar in the same folder as this jupyter notebook along with a wordlist txt file, using this wordlist you\n",
    "will have to write a code that will try every password in it to unrar the file. , open the text fil in it and print it's content\n",
    " \n"
   ]
  },
  {
   "cell_type": "code",
   "execution_count": 3,
   "metadata": {},
   "outputs": [
    {
     "name": "stdout",
     "output_type": "stream",
     "text": [
      "freedom\n"
     ]
    }
   ],
   "source": [
    "import rarfile\n",
    "rf = rarfile.RarFile('unrar_me.rar')\n",
    "rf.UNRAR_TOOL='UnRAR.exe'\n",
    "passwordlist = open(\"pass.txt\")\n",
    "i=0\n",
    "while True:\n",
    "    try:\n",
    "    \n",
    "        pas=passwordlist.readline()[:-1]\n",
    "        rf.extract(rf.namelist()[0],pwd=pas)\n",
    "        i+=1\n",
    "        if i == 50:\n",
    "            print(\"no pass\")\n",
    "            break\n",
    "        if not rf.extract(rf.namelist()[0],pwd=pas):#this returns none\n",
    "            print(pas)\n",
    "            break\n",
    "    except:\n",
    "        pass"
   ]
  },
  {
   "cell_type": "code",
   "execution_count": null,
   "metadata": {},
   "outputs": [],
   "source": []
  }
 ],
 "metadata": {
  "kernelspec": {
   "display_name": "Python 3",
   "language": "python",
   "name": "python3"
  },
  "language_info": {
   "codemirror_mode": {
    "name": "ipython",
    "version": 3
   },
   "file_extension": ".py",
   "mimetype": "text/x-python",
   "name": "python",
   "nbconvert_exporter": "python",
   "pygments_lexer": "ipython3",
   "version": "3.6.5"
  }
 },
 "nbformat": 4,
 "nbformat_minor": 2
}
